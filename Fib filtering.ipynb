{
 "metadata": {
  "kernelspec": {
   "display_name": "Python 2",
   "language": "python",
   "name": "python2"
  },
  "language_info": {
   "codemirror_mode": {
    "name": "ipython",
    "version": 2
   },
   "file_extension": ".py",
   "mimetype": "text/x-python",
   "name": "python",
   "nbconvert_exporter": "python",
   "pygments_lexer": "ipython2",
   "version": "2.7.12"
  },
  "name": ""
 },
 "nbformat": 3,
 "nbformat_minor": 0,
 "worksheets": [
  {
   "cells": [
    {
     "cell_type": "markdown",
     "metadata": {},
     "source": [
      "My 2nd best language for this type of work is iPython Notebook\n",
      "\n",
      "Again, let's start at: [AKS test for primes in Python](https://rosettacode.org/wiki/AKS_test_for_primes#Python)\n",
      "\n",
      "It even appears that the generator version on Rosetta has a similar problem as the Forth version."
     ]
    },
    {
     "cell_type": "code",
     "collapsed": false,
     "input": [
      "def expand_x_1(p):\n",
      "    ex = [1]\n",
      "    for i in range(p):\n",
      "        ex.append(ex[-1] * -(p-i) / (i+1))\n",
      "    return ex[::-1]\n",
      " \n",
      "def aks_test(p):\n",
      "    if p < 2: return False\n",
      "    ex = expand_x_1(p)\n",
      "    ex[0] += 1\n",
      "    return not any(mult % p for mult in ex[0:-1])\n",
      " \n",
      " \n",
      "print('# p: (x-1)^p for small p')\n",
      "for p in range(12):\n",
      "    print('%3i: %s' % (p, ' '.join('%+i%s' % (e, ('x^%i' % n) if n else '')\n",
      "                                   for n,e in enumerate(expand_x_1(p)))))\n",
      " \n",
      "print('\\n# small primes using the aks test')\n",
      "print([p for p in range(101) if aks_test(p)])"
     ],
     "language": "python",
     "metadata": {},
     "outputs": [
      {
       "output_type": "stream",
       "stream": "stdout",
       "text": [
        "# p: (x-1)^p for small p\n",
        "  0: +1\n",
        "  1: -1 +1x^1\n",
        "  2: +1 -2x^1 +1x^2\n",
        "  3: -1 +3x^1 -3x^2 +1x^3\n",
        "  4: +1 -4x^1 +6x^2 -4x^3 +1x^4\n",
        "  5: -1 +5x^1 -10x^2 +10x^3 -5x^4 +1x^5\n",
        "  6: +1 -6x^1 +15x^2 -20x^3 +15x^4 -6x^5 +1x^6\n",
        "  7: -1 +7x^1 -21x^2 +35x^3 -35x^4 +21x^5 -7x^6 +1x^7\n",
        "  8: +1 -8x^1 +28x^2 -56x^3 +70x^4 -56x^5 +28x^6 -8x^7 +1x^8\n",
        "  9: -1 +9x^1 -36x^2 +84x^3 -126x^4 +126x^5 -84x^6 +36x^7 -9x^8 +1x^9\n",
        " 10: +1 -10x^1 +45x^2 -120x^3 +210x^4 -252x^5 +210x^6 -120x^7 +45x^8 -10x^9 +1x^10\n",
        " 11: -1 +11x^1 -55x^2 +165x^3 -330x^4 +462x^5 -462x^6 +330x^7 -165x^8 +55x^9 -11x^10 +1x^11\n",
        "\n",
        "# small primes using the aks test\n",
        "[2, 3, 5, 7, 11, 13, 17, 19, 23, 29, 31, 37, 41, 43, 47, 53]\n"
       ]
      }
     ],
     "prompt_number": 1
    },
    {
     "cell_type": "markdown",
     "metadata": {},
     "source": [
      "I chose the 1st/easiest one at: [Fibonacci sequence Iterative positive and negative](https://rosettacode.org/wiki/Fibonacci_sequence#Iterative_positive_and_negative)"
     ]
    },
    {
     "cell_type": "code",
     "collapsed": false,
     "input": [
      "def fib(n,x=[0,1]):\n",
      "    for i in range(abs(n)-1): x=[x[1],sum(x)]\n",
      "    return x[1]*pow(-1,abs(n)-1) if n<0 else x[1] if n else 0\n",
      " \n",
      "for i in range(0,31):\n",
      "    x = fib(i)\n",
      "    if x == 0:\n",
      "        print (x)\n",
      "    else:\n",
      "        if x % 3 == 0:\n",
      "            print ('Buzz ')\n",
      "        else:\n",
      "            if x % 5 == 0:\n",
      "                print ('Fizz ')\n",
      "            else:\n",
      "                if x % 15 == 0:\n",
      "                    print ('FizzBuzz ')\n",
      "                else:\n",
      "                    if aks_test(x):\n",
      "                        print ('BuzzFizz ')\n",
      "                    else:\n",
      "                        print (x)"
     ],
     "language": "python",
     "metadata": {},
     "outputs": [
      {
       "output_type": "stream",
       "stream": "stdout",
       "text": [
        "0\n",
        "1\n",
        "1\n",
        "BuzzFizz \n",
        "Buzz \n",
        "Fizz \n",
        "8\n",
        "BuzzFizz \n",
        "Buzz \n",
        "34\n",
        "Fizz \n",
        "89\n",
        "Buzz \n",
        "233\n",
        "377\n",
        "Fizz \n",
        "Buzz \n",
        "1597\n",
        "2584\n",
        "4181\n",
        "Buzz \n",
        "10946\n",
        "17711\n",
        "28657\n",
        "Buzz \n",
        "Fizz \n",
        "121393\n",
        "196418\n",
        "Buzz \n"
       ]
      },
      {
       "output_type": "stream",
       "stream": "stdout",
       "text": [
        "514229\n",
        "Fizz \n"
       ]
      }
     ],
     "prompt_number": 2
    }
   ],
   "metadata": {}
  }
 ]
}
